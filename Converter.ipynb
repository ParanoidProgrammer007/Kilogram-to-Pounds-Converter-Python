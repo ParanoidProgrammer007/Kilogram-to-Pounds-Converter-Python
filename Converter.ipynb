{
  "nbformat": 4,
  "nbformat_minor": 0,
  "metadata": {
    "colab": {
      "provenance": [],
      "authorship_tag": "ABX9TyPhZuUYbn5XAWGYlWsQF8wo",
      "include_colab_link": true
    },
    "kernelspec": {
      "name": "python3",
      "display_name": "Python 3"
    },
    "language_info": {
      "name": "python"
    }
  },
  "cells": [
    {
      "cell_type": "markdown",
      "metadata": {
        "id": "view-in-github",
        "colab_type": "text"
      },
      "source": [
        "<a href=\"https://colab.research.google.com/github/ParanoidProgrammer007/Kilogram-to-Pounds-Converter-Python/blob/main/Converter.ipynb\" target=\"_parent\"><img src=\"https://colab.research.google.com/assets/colab-badge.svg\" alt=\"Open In Colab\"/></a>"
      ]
    },
    {
      "cell_type": "code",
      "execution_count": null,
      "metadata": {
        "id": "08Q8fgvbOcZu"
      },
      "outputs": [],
      "source": [
        "W = input(\"What is your weight? \")\n",
        "U = input(\"Kg or Lbs? \")\n",
        "if U == (\"Kg\") :\n",
        "    Result_1 = float(2.20462) * float(W)\n",
        "    print(\"Your weight in Lbs is: \" + str(Result_1))\n",
        "if U == (\"Lbs\") :\n",
        "    Result_2 = float(W) / float(2.20462)\n",
        "    print(\"Your weight in Kg is: \" + str(Result_2))"
      ]
    }
  ]
}